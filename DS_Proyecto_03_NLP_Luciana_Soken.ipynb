{
 "cells": [
  {
   "cell_type": "markdown",
   "metadata": {
    "id": "2GRQnxMzISE_"
   },
   "source": [
    "# Proyecto 03 - Procesamiento del Lenguaje Natural\n",
    "\n",
    "## Dataset: The Multilingual Amazon Reviews Corpus\n",
    "\n",
    "El siguiente notebook comprende 3 partes principales: \n",
    "\n",
    "#### A - Exploración de datos y Procesamiento del Lenguaje Natural\n",
    "\n",
    "#### B - Machine Learning\n",
    "\n",
    "1. Haz todas las transformaciones de datos que consideres necesarias. Justifica\n",
    "1. Evalúa de forma apropiada sus resultados. Justifica la métrica elegida.\n",
    "1. Elige un modelo benchmark y compara tus resultados con este modelo.\n",
    "1. Optimiza los hiperparámetros de tu modelo.\n",
    "1. Intenta responder la pregunta: ¿Qué información está usando el modelo para predecir?\n",
    "\n",
    "#### C- Para pensar, investigar y, opcionalmente, implementar\n",
    "1. ¿Valdrá la pena convertir el problema de Machine Learning en un problema binario? Es decir, asignar únicamente las etiquetas Positiva y Negativa a cada crítica y hacer un modelo que, en lugar de predecir las estrellas, prediga esa etiqueta. Pensar en qué situación puede ser útil. ¿Esperas que el desempeño sea mejor o peor?\n",
    "1. ¿Hay algo que te gustaría investigar o probar?"
   ]
  },
  {
   "cell_type": "markdown",
   "metadata": {},
   "source": [
    "### **Parte A- Exploración de datos**"
   ]
  },
  {
   "cell_type": "code",
   "execution_count": 1,
   "metadata": {
    "id": "x1GFwraSISFB",
    "tags": []
   },
   "outputs": [
    {
     "name": "stderr",
     "output_type": "stream",
     "text": [
      "[nltk_data] Downloading package punkt to /home/lulu/nltk_data...\n",
      "[nltk_data]   Package punkt is already up-to-date!\n",
      "[nltk_data] Downloading package stopwords to /home/lulu/nltk_data...\n",
      "[nltk_data]   Package stopwords is already up-to-date!\n"
     ]
    }
   ],
   "source": [
    "# Importo todas las librerìas que voy a utilizar en el proyecto\n",
    "import itertools\n",
    "import numpy as np\n",
    "import pandas as pd\n",
    "import matplotlib.pyplot as plt\n",
    "import seaborn as sns\n",
    "import xgboost as xgb\n",
    "pd.options.display.max_columns = None\n",
    "pd.set_option('display.max_colwidth', None)\n",
    "# sns.set()\n",
    "import nltk\n",
    "nltk.download('punkt')\n",
    "nltk.download('stopwords')\n",
    "# Importamos esta libreria que nos permite reemplzar caracteres\n",
    "import re\n",
    "import spacy\n",
    "\n",
    "from sklearn.feature_extraction.text import CountVectorizer\n",
    "from sklearn.model_selection import train_test_split, RandomizedSearchCV\n",
    "from sklearn.naive_bayes import GaussianNB    \n",
    "from sklearn.linear_model import LinearRegression\n",
    "from sklearn.metrics import mean_squared_error, mean_absolute_error, confusion_matrix, accuracy_score\n",
    "from sklearn.ensemble import RandomForestRegressor, RandomForestClassifier\n",
    "from xgboost import plot_importance"
   ]
  },
  {
   "cell_type": "code",
   "execution_count": 3,
   "metadata": {},
   "outputs": [
    {
     "data": {
      "text/html": [
       "<div>\n",
       "<style scoped>\n",
       "    .dataframe tbody tr th:only-of-type {\n",
       "        vertical-align: middle;\n",
       "    }\n",
       "\n",
       "    .dataframe tbody tr th {\n",
       "        vertical-align: top;\n",
       "    }\n",
       "\n",
       "    .dataframe thead th {\n",
       "        text-align: right;\n",
       "    }\n",
       "</style>\n",
       "<table border=\"1\" class=\"dataframe\">\n",
       "  <thead>\n",
       "    <tr style=\"text-align: right;\">\n",
       "      <th></th>\n",
       "      <th>review_id</th>\n",
       "      <th>product_id</th>\n",
       "      <th>reviewer_id</th>\n",
       "      <th>stars</th>\n",
       "      <th>review_body</th>\n",
       "      <th>review_title</th>\n",
       "      <th>language</th>\n",
       "      <th>product_category</th>\n",
       "    </tr>\n",
       "  </thead>\n",
       "  <tbody>\n",
       "    <tr>\n",
       "      <th>0</th>\n",
       "      <td>es_0491108</td>\n",
       "      <td>product_es_0296024</td>\n",
       "      <td>reviewer_es_0999081</td>\n",
       "      <td>1</td>\n",
       "      <td>Nada bueno se me fue ka pantalla en menos de 8 meses y no he recibido respuesta del fabricante</td>\n",
       "      <td>television Nevir</td>\n",
       "      <td>es</td>\n",
       "      <td>electronics</td>\n",
       "    </tr>\n",
       "    <tr>\n",
       "      <th>1</th>\n",
       "      <td>es_0869872</td>\n",
       "      <td>product_es_0922286</td>\n",
       "      <td>reviewer_es_0216771</td>\n",
       "      <td>1</td>\n",
       "      <td>Horrible, nos tuvimos que comprar otro porque ni nosotros que sabemos inglés, ni un informático, después de una hora fue capaz de instalarlo</td>\n",
       "      <td>Dinero tirado a la basura con esta compra</td>\n",
       "      <td>es</td>\n",
       "      <td>electronics</td>\n",
       "    </tr>\n",
       "    <tr>\n",
       "      <th>2</th>\n",
       "      <td>es_0811721</td>\n",
       "      <td>product_es_0474543</td>\n",
       "      <td>reviewer_es_0929213</td>\n",
       "      <td>1</td>\n",
       "      <td>Te obligan a comprar dos unidades y te llega solo una y no hay forma de reclamar, una autentica estafa, no compreis!!</td>\n",
       "      <td>solo llega una unidad cuando te obligan a comprar dos</td>\n",
       "      <td>es</td>\n",
       "      <td>drugstore</td>\n",
       "    </tr>\n",
       "    <tr>\n",
       "      <th>3</th>\n",
       "      <td>es_0359921</td>\n",
       "      <td>product_es_0656090</td>\n",
       "      <td>reviewer_es_0224702</td>\n",
       "      <td>1</td>\n",
       "      <td>No entro en descalificar al vendedor, solo puedo decir que tras dos meses de espera.... sigo sin el producto y tuve que contactar con Amazon para reclamar su reembolso. Amazon un 10 . Se hace cargo del problema, pero yo e desembolsado mi dinero y en dos meses me lo devuelven Perdida de tiempo TOTAL. Sin palabras. Y Ustedes deciden</td>\n",
       "      <td>PRODUCTO NO RECIBIDO.</td>\n",
       "      <td>es</td>\n",
       "      <td>wireless</td>\n",
       "    </tr>\n",
       "    <tr>\n",
       "      <th>4</th>\n",
       "      <td>es_0068940</td>\n",
       "      <td>product_es_0662544</td>\n",
       "      <td>reviewer_es_0224827</td>\n",
       "      <td>1</td>\n",
       "      <td>Llega tarde y co la talla equivocada</td>\n",
       "      <td>Devuelto</td>\n",
       "      <td>es</td>\n",
       "      <td>shoes</td>\n",
       "    </tr>\n",
       "  </tbody>\n",
       "</table>\n",
       "</div>"
      ],
      "text/plain": [
       "    review_id          product_id          reviewer_id  stars  \\\n",
       "0  es_0491108  product_es_0296024  reviewer_es_0999081      1   \n",
       "1  es_0869872  product_es_0922286  reviewer_es_0216771      1   \n",
       "2  es_0811721  product_es_0474543  reviewer_es_0929213      1   \n",
       "3  es_0359921  product_es_0656090  reviewer_es_0224702      1   \n",
       "4  es_0068940  product_es_0662544  reviewer_es_0224827      1   \n",
       "\n",
       "                                                                                                                                                                                                                                                                                                                                    review_body  \\\n",
       "0                                                                                                                                                                                                                                                Nada bueno se me fue ka pantalla en menos de 8 meses y no he recibido respuesta del fabricante   \n",
       "1                                                                                                                                                                                                  Horrible, nos tuvimos que comprar otro porque ni nosotros que sabemos inglés, ni un informático, después de una hora fue capaz de instalarlo   \n",
       "2                                                                                                                                                                                                                         Te obligan a comprar dos unidades y te llega solo una y no hay forma de reclamar, una autentica estafa, no compreis!!   \n",
       "3  No entro en descalificar al vendedor, solo puedo decir que tras dos meses de espera.... sigo sin el producto y tuve que contactar con Amazon para reclamar su reembolso. Amazon un 10 . Se hace cargo del problema, pero yo e desembolsado mi dinero y en dos meses me lo devuelven Perdida de tiempo TOTAL. Sin palabras. Y Ustedes deciden   \n",
       "4                                                                                                                                                                                                                                                                                                          Llega tarde y co la talla equivocada   \n",
       "\n",
       "                                            review_title language  \\\n",
       "0                                       television Nevir       es   \n",
       "1              Dinero tirado a la basura con esta compra       es   \n",
       "2  solo llega una unidad cuando te obligan a comprar dos       es   \n",
       "3                                  PRODUCTO NO RECIBIDO.       es   \n",
       "4                                               Devuelto       es   \n",
       "\n",
       "  product_category  \n",
       "0      electronics  \n",
       "1      electronics  \n",
       "2        drugstore  \n",
       "3         wireless  \n",
       "4            shoes  "
      ]
     },
     "execution_count": 3,
     "metadata": {},
     "output_type": "execute_result"
    }
   ],
   "source": [
    "# Importo el dataset de entrenamiento\n",
    "data = pd.read_json('dataset_es_train.json', lines= True)\n",
    "data.head()"
   ]
  },
  {
   "cell_type": "markdown",
   "metadata": {},
   "source": [
    "Podemos ver todas las columnas del dataset, para comenzar a explorarlo voy a realizar una primera inspección en la cual pueda ver el número de instancias y features totales, y luego ver cuántos datos únicos tengo en cada uno de los features."
   ]
  },
  {
   "cell_type": "code",
   "execution_count": 8,
   "metadata": {},
   "outputs": [
    {
     "name": "stdout",
     "output_type": "stream",
     "text": [
      "Número de instancias: 200000 y número de features: 8\n",
      "Número de review_id: 200000\n",
      "Número de product_id: 150938\n",
      "Número de reviewer_id: 179076\n",
      "Número de stars: 5\n",
      "Número de languages: 1\n",
      "Número de categorías de producto: 30\n",
      "\n",
      "['electronics' 'drugstore' 'wireless' 'shoes' 'home' 'luggage'\n",
      " 'office_product' 'kitchen' 'pc' 'toy' 'industrial_supplies' 'furniture'\n",
      " 'pet_products' 'sports' 'home_improvement' 'grocery' 'lawn_and_garden'\n",
      " 'beauty' 'other' 'watch' 'automotive' 'book' 'apparel' 'video_games'\n",
      " 'camera' 'baby_product' 'personal_care_appliances' 'jewelry'\n",
      " 'digital_ebook_purchase' 'musical_instruments']\n"
     ]
    }
   ],
   "source": [
    "print('Número de instancias:', data.shape[0], 'y número de features:', data.shape[1])\n",
    "print('Número de review_id:', data['review_id'].nunique())\n",
    "print('Número de product_id:', data['product_id'].nunique())\n",
    "print('Número de reviewer_id:', data['reviewer_id'].nunique())\n",
    "print('Número de stars:', data['stars'].nunique())\n",
    "print('Número de languages:', data['language'].nunique())\n",
    "print('Número de categorías de producto:', data['product_category'].nunique())\n",
    "print('')\n",
    "# Veo qué categorías de producto hay en el dataset\n",
    "categorias = data.product_category.unique()\n",
    "print(categorias)"
   ]
  },
  {
   "cell_type": "markdown",
   "metadata": {},
   "source": [
    "Puedo ver que este dataset contiene 200.000 registros (reviews) y 8 features o columnas para cada registro. Han hecho sus críticas 179.076 usuarios (reviewer_id) y el dataset tiene 150.938 productos (product_id) los cuales se agrupan en 30 categorías diferentes (product_category), las cuales se detallan arriba. Todas las críticas son en español (language = es) y las calificaciones posibles son 1, 2, 3, 4 y 5 estrellas (stars).\n",
    "\n",
    "A continuación evalúo cómo se distribuyen las stars en el dataset de manera global."
   ]
  },
  {
   "cell_type": "code",
   "execution_count": 5,
   "metadata": {},
   "outputs": [
    {
     "data": {
      "text/plain": [
       "(array([1, 2, 3, 4, 5]), array([40000, 40000, 40000, 40000, 40000]))"
      ]
     },
     "execution_count": 5,
     "metadata": {},
     "output_type": "execute_result"
    }
   ],
   "source": [
    "unique_stars_data  = np.unique(data['stars'], return_counts=True)\n",
    "unique_stars_data"
   ]
  },
  {
   "cell_type": "markdown",
   "metadata": {},
   "source": [
    "El dataset cuenta con 40.000 registros para cada una de las 5 calificaciones posibles.\n",
    "\n",
    "**¿Es pareja la distribución de stars para todas las categorías de producto?**\n",
    "\n",
    "Contesto a esta pregunta para tenerlo en cuenta en el análisis de performance del los modelos. Es posible que aquellas categorías que tengan una distribución de stars más equitativa funcionen mejor en las predicciones que aquellos en las cuales las stars estén sesgadas hacia alguna calificación en particular."
   ]
  },
  {
   "cell_type": "code",
   "execution_count": 12,
   "metadata": {},
   "outputs": [
    {
     "data": {
      "image/png": "[encoded data removed]",
      "text/plain": [
       "<Figure size 1080x1080 with 1 Axes>"
      ]
     },
     "metadata": {
      "needs_background": "light"
     },
     "output_type": "display_data"
    }
   ],
   "source": [
    "# Cuento cuántos productos tengo en cada categoría y los ordeno de mayor a menor\n",
    "data3 = data.groupby(['product_category']).count()\n",
    "# sort df by Count column\n",
    "data3 = data3.sort_values(['review_id'], ascending=False).reset_index()\n",
    "\n",
    "plt.figure(figsize=(15,15))\n",
    "ax = sns.barplot(y = data3.product_category, x = data3.review_id, data = data3, palette=\"Set2\", label='big')\n",
    "plt.title('Distribución de categorías de productos', fontsize=15)\n",
    "plt.xlabel('Crìticas', fontsize=15)\n",
    "plt.xticks(rotation=30)\n",
    "plt.ylabel('Categorías de productos', fontsize=15)\n",
    "\n",
    "for i in ax.patches:\n",
    "    ax.text(i.get_width()+.3, i.get_y()+.38, \\\n",
    "            str(round((i.get_width()), 2)), fontsize=10)"
   ]
  },
  {
   "cell_type": "markdown",
   "metadata": {},
   "source": [
    "Las categorías que más productos tienen son 'home' y 'wireless' (más de 25.000 registros). Se ven después qué categorías tienen registros y cuáles menos registros.  \n",
    "\n",
    "Voy a definir una función para que sea más sencillo recorrer todas las cateogrías de producto y evaluar la distribución de stars en cada uno. \n",
    "\n",
    "No se muestran todos los resultados para no hacer muy extensa la notebook, pero es posible ver cada gráfico cambiando el nombre de la categoría o corriendo el for loop."
   ]
  },
  {
   "cell_type": "code",
   "execution_count": 15,
   "metadata": {},
   "outputs": [],
   "source": [
    "def stars_rating(datos,categoria):\n",
    "    data_categoria = datos[datos['product_category'] == categoria]\n",
    "    print('Categoría:', categoria)\n",
    "    print('Registros para esta categoría:', data_categoria.shape[0])\n",
    "# Ordeno según stars\n",
    "    data_categoria = data_categoria.sort_values(['stars'], ascending=False).reset_index(drop=False)\n",
    "\n",
    "    ax = sns.barplot(y = data_categoria.groupby(['stars']).count()['review_id'], x = data_categoria.groupby(['stars']).count().index, data = data_categoria, palette=\"Set2\", label='big')\n",
    "    plt.title('Distribución de stars', fontsize=15)\n",
    "    plt.xlabel('Stars', fontsize=15)\n",
    "    plt.ylabel('Cantidad de productos', fontsize=15)\n",
    "    plt.show()\n",
    "    return"
   ]
  },
  {
   "cell_type": "code",
   "execution_count": 16,
   "metadata": {},
   "outputs": [
    {
     "name": "stdout",
     "output_type": "stream",
     "text": [
      "Categoría: home\n",
      "Registros para esta categoría: 26962\n"
     ]
    },
    {
     "data": {
      "image/png": "[encoded data removed]",
      "text/plain": [
       "<Figure size 432x288 with 1 Axes>"
      ]
     },
     "metadata": {
      "needs_background": "light"
     },
     "output_type": "display_data"
    }
   ],
   "source": [
    "stars_rating(data,'home')"
   ]
  },
  {
   "cell_type": "code",
   "execution_count": null,
   "metadata": {},
   "outputs": [],
   "source": [
    "for i in categorias:\n",
    "    stars_rating(data,i)"
   ]
  },
  {
   "cell_type": "markdown",
   "metadata": {},
   "source": [
    "En una inspección visual, las categorías que presentan una distribución de stars menos pareja son:    \n",
    "Wireless: menos cantidad de productos con mayor cantidad estrellas (3,4,5)   \n",
    "Luggage: menos cantidad de productos con mayor cantidad estrellas (1,2)  \n",
    "Lawn_and_garden: menos cantidad de productos con mayor cantidad estrellas (4,5)   \n",
    "Book: menos cantidad de productos con mayor cantidad estrellas (1,2,3,4)   \n",
    "Digital_ebook_purchase: menos cantidad de productos con mayor cantidad estrellas (1,2)   \n",
    "Musical_instruments: menos cantidad de productos con mayor cantidad estrellas (1,2)   \n",
    "\n",
    "Balanceados: electronics, drugstore, home, office_product, kitchen, pc, toy, industrial_supplies, furniture, pet_products, \n",
    "sports, home_improvement, grocery, beauty, other, watch, automotive, apparel, video_games, camera, baby_product, personal_care_appliances, jewelry.\n",
    "\n",
    "**¿Qué palabras se encuentran más asociadas a cada calificación?**\n",
    "\n",
    "Para evaluar esto, voy a empezar agrupando las críticas por cantidad de stars y eliminando stopwords. Antes de quitar stopwords voy a quitar de la lista aquellas palabras que pueden ser relevantes para este proyecto, relacionadas con palabras que pueden hacer referencia a calificaciones, cuantificaciones, sentimientos o expresiones de deseos."
   ]
  },
  {
   "cell_type": "code",
   "execution_count": 18,
   "metadata": {},
   "outputs": [],
   "source": [
    "data_1_star = data[data['stars'] == 1]\n",
    "data_2_stars = data[data['stars'] == 2]\n",
    "data_3_stars = data[data['stars'] == 3]\n",
    "data_4_stars = data[data['stars'] == 4]\n",
    "data_5_stars = data[data['stars'] == 5]\n",
    "\n",
    "stopwords = nltk.corpus.stopwords.words('spanish')\n",
    "# print('Lista de stopwords:', stopwords)\n",
    "\n",
    "# Luego de evaluar la lista de stopwords, decido dejar algunas palabras que pueden ser relevantes para el trabajo\n",
    "palabras = ['muy', 'no', 'si', 'sin', 'sentido', 'sentida', 'sintiendo', 'siente', 'contra', 'muchos', 'poco', 'más', \n",
    "            'pero', 'porque', 'tanto', 'sentidos', 'sería', 'fuese', 'tuvo', 'tendría', 'tuviese']\n",
    "stopwords = [palabra for palabra in stopwords if palabra not in palabras]\n",
    "\n",
    "# print('Lista de stopwords:', len(stopwords), 'palabras', stopwords)"
   ]
  },
  {
   "cell_type": "markdown",
   "metadata": {},
   "source": [
    "Defino una función para graficar la lista de palabras más frecuentes en cada dataset."
   ]
  },
  {
   "cell_type": "code",
   "execution_count": 19,
   "metadata": {},
   "outputs": [],
   "source": [
    "def freq_palabras(dataset):\n",
    "    review_body_data = []\n",
    "# Agrego las review_body\n",
    "    name =[x for x in globals() if globals()[x] is dataset][0]\n",
    "    for i in range(dataset.shape[0]):\n",
    "        review_body_ = dataset.iloc[i].review_body\n",
    "        review_body_ = review_body_.lower()\n",
    "        review_body_ = nltk.tokenize.RegexpTokenizer(\"[\\w]+\").tokenize(review_body_)  # [\\w]+ Para reconocer caracteres alfanuméricos\n",
    "        # Pasamos todo a minúsculas\n",
    "\n",
    "        review_body_ = [word for word in review_body_ if word not in stopwords]\n",
    "#     review_body_ = [word for word in titular if word not in filtrar]\n",
    "        review_body_data.append(review_body_)\n",
    "    \n",
    "    review_body_data = list(itertools.chain(*review_body_data))\n",
    "    freq_data = nltk.FreqDist(review_body_data)\n",
    "    df_data = pd.DataFrame(list(freq_data.items()), columns = [\"Word\",\"Frequency\"])\n",
    "    df_data.sort_values('Frequency',ascending=False, inplace = True)\n",
    "    df_data.reset_index(drop = True, inplace=True)\n",
    "    \n",
    "    plt.figure(figsize = (10, 6))\n",
    "    plt.title('Palabras más frecuentes en dataset %s' %name, fontsize=15)\n",
    "    plot = sns.barplot(x  = df_data.iloc[:20].Word, y = df_data.iloc[:20].Frequency)\n",
    "    \n",
    "    for item in plot.get_xticklabels():\n",
    "        item.set_rotation(90)\n",
    "    plt.show()\n",
    "    return"
   ]
  },
  {
   "cell_type": "code",
   "execution_count": 23,
   "metadata": {},
   "outputs": [
    {
     "data": {
      "image/png": "[encoded data removed]",
      "text/plain": [
       "<Figure size 720x432 with 1 Axes>"
      ]
     },
     "metadata": {
      "needs_background": "light"
     },
     "output_type": "display_data"
    },
    {
     "data": {
      "image/png": "[encoded data removed]",
      "text/plain": [
       "<Figure size 720x432 with 1 Axes>"
      ]
     },
     "metadata": {
      "needs_background": "light"
     },
     "output_type": "display_data"
    },
    {
     "data": {
      "image/png": "[encoded data removed]",
      "text/plain": [
       "<Figure size 720x432 with 1 Axes>"
      ]
     },
     "metadata": {
      "needs_background": "light"
     },
     "output_type": "display_data"
    },
    {
     "data": {
      "image/png": "[encoded data removed]",
      "text/plain": [
       "<Figure size 720x432 with 1 Axes>"
      ]
     },
     "metadata": {
      "needs_background": "light"
     },
     "output_type": "display_data"
    },
    {
     "data": {
      "image/png": "[encoded data removed]",
      "text/plain": [
       "<Figure size 720x432 with 1 Axes>"
      ]
     },
     "metadata": {
      "needs_background": "light"
     },
     "output_type": "display_data"
    }
   ],
   "source": [
    "# Recorro los datasets según el filtro de 2, 3 4 y 5 estrellas para ver cuál es la distribución de palabras mśa frecuentes.\n",
    "datasets = [data_1_star, data_2_stars, data_3_stars, data_4_stars, data_5_stars]\n",
    "\n",
    "for i in datasets:\n",
    "    freq_palabras(i)"
   ]
  },
  {
   "cell_type": "markdown",
   "metadata": {},
   "source": [
    "Las 5 palabras más frecuentes en el sub-dataset de cada estrella son:  \n",
    "\n",
    "**1 star**: con mucha diferencia, la palabra más utilizada en este dataset es \"no\". Luego siguen \"muy\", \"pero\", \"producto\", \"si\".  \n",
    "**2 stars**: la palabra más utilizada es \"no\", pero  y tiene una diferencia importante con las siguientes, pero se evidencia que no hay tanta diferencia como en el dataset de 1 star. Las palabras siguientes son \"pero\", \"muy\", \"bien\", \"si\".  \n",
    "**3 stars**: la palabra más utilizada también es \"no\", pero se evidencia que en menor cantidad que en los datasets 1 y 2 (entre 10 y 20 mil veces menos). Le siguen \"pero\", \"muy\", \"bien\" y \"más\", también con mayor frecuencia que en el dataset de 2 stars.  \n",
    "**4 stars**: en este dataset las 2 palabras más frecuentes son \"no\" y \"muy\" (casi en igual frecuencia) . Le siguen \"muy\", \"bien\", \"precio\" y \"calidad\". Se ve que hay menor diferencia que en los datasets anteriores en la frecuencia de palabras y que empiezan a aparecer palabras con características de los productos como \"precio\" y \"calidad\".   \n",
    "**5 stars**: en este caso el comportamiento de la frecuencia de palabras es más similar al dataset de 2 estrellas, pero la palabra más empleada es \"muy\". Le siguen en menor frecuencia \"no\", \"bien\", \"calidad\" y \"buena\". En este caso y en el dataset anterior, la palabra \"buena\" y muchas de las siguientes que se observan (al como \"perfecto\", \"perfectamente\", \"fácil\") se pueden asociar a sentimientos de satisfacción.   \n",
    "\n",
    "Observando estos gráficos, vemos que es posible que estas palabras sean importantes para los modelos en la clasificación de los productos.\n",
    "\n",
    "### **Parte B - Machine Learning**\n",
    "\n",
    "Respondiendo a la pregunta de **¿Es un problema de Clasificación o de Regresión?**, considero que este problema puede verse de ambas formas. En el caso de una Clasificación, se podrían considerar a las 5 estrellas equivalentes a poner categorías cualitativas de \"malo\", \"regular\", \"bueno\", \"muy bueno\" y \"excelente\" por ejemplo, y emplear un modelo de clasificación de los vistos en las bitácoras del curso. Sin embargo, debido a que estas categorías presentan una diferencia jerárquica entre sí 1 < 2 < 3 < 4 < 5 (**variables numéricas ordinales**) sería más conveniente emplear un modelo de **regresión** para estimar las calificaciones que un clasificador.\n",
    "\n",
    "Para comenzar a implementar modelos de Machine learning voy a elegir trabajar con la columna \"review_body\" que es en donde se encuentra la crítica principal. Creo que también sería posible y muy enriquecedor también utilizar también la información de la columna \"review_title\", pero no la voy a considerar a priori (sería posible agregarla por ejemplo como mejora en el Sprint 4).\n",
    "\n",
    "**Métricas de evaluación de modelos**\n",
    "\n",
    "Las métricas que utilizaré para evaluar los modelos son:   \n",
    "1- Mean Absolute Error (MAE): es el promedio de las diferencias absolutas entre las predicciones y los valores reales. Hay que tener la consideración de que da idea de la magnitud, pero no de la dirección del error.   \n",
    "2- **Root Mean Squared Error (RMSE)**: se realiza la media cuadrática entre los valores previstos y observados. Como la variable puede tomar valores positivos y negativos, este valor me permite evaluar las diferencias globales entre los valores reales y predichos independientemente de la dirección en la que suceda el error (y que no se cancelen los signos positivos con los negativos). Tiene la característica de que le da más peso a errores mayores de la diferencia (valor real - valor predicho).\n",
    "Luego convierte el error en las unidades originales de la variable. Utilizaré esta métrica como principal determinante en el análisis.  \n",
    "\n",
    "En ambos casos, pueden tomar valores que van desde cero a infinito. Cuanto más cercano a cero sea el valor, mejor predictor será el modelo que estoy evaluando, ya que las diferencias de la variable predicha con la real serán menores.\n",
    "\n",
    "**Preprocesamiento de datos**\n",
    "\n",
    "El primer preprocesamiento de los datos que voy a realizar es la Normalización empeando el proceso de **Lemmatización**. Elijo esta metodología en lugar de la Stemmización, ya que si bien es computacionalmente más costoso, me permite ir a la raíz de la palabra utilizando el contexto y la función de la palabra en el texto. Debido a que el dataset se encuentra en español NLTK no ha funcionado bien para realizar la lemmatización (no dispone de librerías para este proceso en español) por lo que decido utilizar **spaCy v3.0** que cuenta con buenas referencias para este proceso."
   ]
  },
  {
   "cell_type": "code",
   "execution_count": 25,
   "metadata": {},
   "outputs": [
    {
     "data": {
      "text/html": [
       "<div>\n",
       "<style scoped>\n",
       "    .dataframe tbody tr th:only-of-type {\n",
       "        vertical-align: middle;\n",
       "    }\n",
       "\n",
       "    .dataframe tbody tr th {\n",
       "        vertical-align: top;\n",
       "    }\n",
       "\n",
       "    .dataframe thead th {\n",
       "        text-align: right;\n",
       "    }\n",
       "</style>\n",
       "<table border=\"1\" class=\"dataframe\">\n",
       "  <thead>\n",
       "    <tr style=\"text-align: right;\">\n",
       "      <th></th>\n",
       "      <th>review_body</th>\n",
       "      <th>stars</th>\n",
       "    </tr>\n",
       "  </thead>\n",
       "  <tbody>\n",
       "    <tr>\n",
       "      <th>0</th>\n",
       "      <td>Nada bueno se me fue ka pantalla en menos de 8 meses y no he recibido respuesta del fabricante</td>\n",
       "      <td>1</td>\n",
       "    </tr>\n",
       "    <tr>\n",
       "      <th>1</th>\n",
       "      <td>Horrible, nos tuvimos que comprar otro porque ni nosotros que sabemos inglés, ni un informático, después de una hora fue capaz de instalarlo</td>\n",
       "      <td>1</td>\n",
       "    </tr>\n",
       "    <tr>\n",
       "      <th>2</th>\n",
       "      <td>Te obligan a comprar dos unidades y te llega solo una y no hay forma de reclamar, una autentica estafa, no compreis!!</td>\n",
       "      <td>1</td>\n",
       "    </tr>\n",
       "    <tr>\n",
       "      <th>3</th>\n",
       "      <td>No entro en descalificar al vendedor, solo puedo decir que tras dos meses de espera.... sigo sin el producto y tuve que contactar con Amazon para reclamar su reembolso. Amazon un 10 . Se hace cargo del problema, pero yo e desembolsado mi dinero y en dos meses me lo devuelven Perdida de tiempo TOTAL. Sin palabras. Y Ustedes deciden</td>\n",
       "      <td>1</td>\n",
       "    </tr>\n",
       "    <tr>\n",
       "      <th>4</th>\n",
       "      <td>Llega tarde y co la talla equivocada</td>\n",
       "      <td>1</td>\n",
       "    </tr>\n",
       "  </tbody>\n",
       "</table>\n",
       "</div>"
      ],
      "text/plain": [
       "                                                                                                                                                                                                                                                                                                                                    review_body  \\\n",
       "0                                                                                                                                                                                                                                                Nada bueno se me fue ka pantalla en menos de 8 meses y no he recibido respuesta del fabricante   \n",
       "1                                                                                                                                                                                                  Horrible, nos tuvimos que comprar otro porque ni nosotros que sabemos inglés, ni un informático, después de una hora fue capaz de instalarlo   \n",
       "2                                                                                                                                                                                                                         Te obligan a comprar dos unidades y te llega solo una y no hay forma de reclamar, una autentica estafa, no compreis!!   \n",
       "3  No entro en descalificar al vendedor, solo puedo decir que tras dos meses de espera.... sigo sin el producto y tuve que contactar con Amazon para reclamar su reembolso. Amazon un 10 . Se hace cargo del problema, pero yo e desembolsado mi dinero y en dos meses me lo devuelven Perdida de tiempo TOTAL. Sin palabras. Y Ustedes deciden   \n",
       "4                                                                                                                                                                                                                                                                                                          Llega tarde y co la talla equivocada   \n",
       "\n",
       "   stars  \n",
       "0      1  \n",
       "1      1  \n",
       "2      1  \n",
       "3      1  \n",
       "4      1  "
      ]
     },
     "execution_count": 25,
     "metadata": {},
     "output_type": "execute_result"
    }
   ],
   "source": [
    "# Importo el dataset de entrenamiento\n",
    "dataset = pd.read_json('dataset_es_train.json', lines= True)\n",
    "\n",
    "# Tomo las columnas de interés\n",
    "dataset=pd.concat([dataset.review_body,dataset.stars],axis=1)\n",
    "dataset.dropna(axis=0,inplace=True)  # Descarto nan\n",
    "dataset.head()"
   ]
  },
  {
   "cell_type": "markdown",
   "metadata": {},
   "source": [
    "#### A) Lemmatización"
   ]
  },
  {
   "cell_type": "code",
   "execution_count": 20,
   "metadata": {},
   "outputs": [],
   "source": [
    "# Cargo el modelo del lenguaje en español\n",
    "nlp = spacy.load(\"es_dep_news_trf\")"
   ]
  },
  {
   "cell_type": "code",
   "execution_count": 21,
   "metadata": {},
   "outputs": [],
   "source": [
    "# Función para lemmatizar con spacy\n",
    "def spacy_lemma(dataset):\n",
    "    lem_list=[]\n",
    "    for review_body in dataset.review_body:\n",
    "        # Convierto a nlp \n",
    "        doc = nlp(review_body)\n",
    "        # Lemmatización\n",
    "        output = [word.lemma_ for word in doc] \n",
    "        # Por ultimo volvemos a unir el titular\n",
    "        output = \" \".join(output)\n",
    "        # Uno a la lista vacía\n",
    "        lem_list.append(output)\n",
    "        # pd.set_option('display.max_colwidth', None)      \n",
    "    dataset[\"titular_lemm\"] = lem_list  \n",
    "    return"
   ]
  },
  {
   "cell_type": "code",
   "execution_count": 31,
   "metadata": {},
   "outputs": [],
   "source": [
    "# Llamo a la función \n",
    "spacy_lemma(dataset)"
   ]
  },
  {
   "cell_type": "code",
   "execution_count": 32,
   "metadata": {},
   "outputs": [],
   "source": [
    "# Guardo el dataset lemmatizado\n",
    "dataset.to_csv (r'/home/lulu/Documents/Acámica/dataset_lemma.csv', index = False, header=True)"
   ]
  },
  {
   "cell_type": "markdown",
   "metadata": {},
   "source": [
    "#### B) Vectorizar"
   ]
  },
  {
   "cell_type": "code",
   "execution_count": 2,
   "metadata": {},
   "outputs": [
    {
     "name": "stdout",
     "output_type": "stream",
     "text": [
      "(200000, 2)\n"
     ]
    },
    {
     "data": {
      "text/html": [
       "<div>\n",
       "<style scoped>\n",
       "    .dataframe tbody tr th:only-of-type {\n",
       "        vertical-align: middle;\n",
       "    }\n",
       "\n",
       "    .dataframe tbody tr th {\n",
       "        vertical-align: top;\n",
       "    }\n",
       "\n",
       "    .dataframe thead th {\n",
       "        text-align: right;\n",
       "    }\n",
       "</style>\n",
       "<table border=\"1\" class=\"dataframe\">\n",
       "  <thead>\n",
       "    <tr style=\"text-align: right;\">\n",
       "      <th></th>\n",
       "      <th>titular_lemm</th>\n",
       "      <th>stars</th>\n",
       "    </tr>\n",
       "  </thead>\n",
       "  <tbody>\n",
       "    <tr>\n",
       "      <th>0</th>\n",
       "      <td>nada bueno él yo ser ka pantalla en menos de 8 mes y no haber recibir respuesta del fabricante</td>\n",
       "      <td>1</td>\n",
       "    </tr>\n",
       "    <tr>\n",
       "      <th>1</th>\n",
       "      <td>horrible , yo tener que comprar otro porque ni yo que saber inglés , ni uno informático , después de uno hora ser capaz de instalar él</td>\n",
       "      <td>1</td>\n",
       "    </tr>\n",
       "    <tr>\n",
       "      <th>2</th>\n",
       "      <td>tú obligar a comprar dos unidad y tú llegar solo uno y no haber forma de reclamar , uno autentico estafa , no compreis ! !</td>\n",
       "      <td>1</td>\n",
       "    </tr>\n",
       "    <tr>\n",
       "      <th>3</th>\n",
       "      <td>no entrar en descalificar al vendedor , solo poder decir que tras dos mes de espera .... seguir sin el producto y tener que contactar con Amazon para reclamar su reembolso . Amazon uno 10 . él hacer cargo del problema , pero yo e desembolsar mi dinero y en dos mes yo él devolver perdida de tiempo total . sin palabra . y tú decidir</td>\n",
       "      <td>1</td>\n",
       "    </tr>\n",
       "    <tr>\n",
       "      <th>4</th>\n",
       "      <td>llegar tarde y co el talla equivocado</td>\n",
       "      <td>1</td>\n",
       "    </tr>\n",
       "  </tbody>\n",
       "</table>\n",
       "</div>"
      ],
      "text/plain": [
       "                                                                                                                                                                                                                                                                                                                                   titular_lemm  \\\n",
       "0                                                                                                                                                                                                                                                nada bueno él yo ser ka pantalla en menos de 8 mes y no haber recibir respuesta del fabricante   \n",
       "1                                                                                                                                                                                                        horrible , yo tener que comprar otro porque ni yo que saber inglés , ni uno informático , después de uno hora ser capaz de instalar él   \n",
       "2                                                                                                                                                                                                                    tú obligar a comprar dos unidad y tú llegar solo uno y no haber forma de reclamar , uno autentico estafa , no compreis ! !   \n",
       "3  no entrar en descalificar al vendedor , solo poder decir que tras dos mes de espera .... seguir sin el producto y tener que contactar con Amazon para reclamar su reembolso . Amazon uno 10 . él hacer cargo del problema , pero yo e desembolsar mi dinero y en dos mes yo él devolver perdida de tiempo total . sin palabra . y tú decidir   \n",
       "4                                                                                                                                                                                                                                                                                                         llegar tarde y co el talla equivocado   \n",
       "\n",
       "   stars  \n",
       "0      1  \n",
       "1      1  \n",
       "2      1  \n",
       "3      1  \n",
       "4      1  "
      ]
     },
     "execution_count": 2,
     "metadata": {},
     "output_type": "execute_result"
    }
   ],
   "source": [
    "# Importo el dataset lemmatizado\n",
    "dataset_lemma = pd.read_csv('dataset_lemma.csv')\n",
    "dataset_lemma=pd.concat([dataset_lemma.titular_lemm,dataset_lemma.stars],axis=1)\n",
    "print(dataset_lemma.shape) # para asegurar que tenga todas las instancias\n",
    "dataset_lemma.head()"
   ]
  },
  {
   "cell_type": "markdown",
   "metadata": {},
   "source": [
    "Voy a definir **x** (vector con las palabras en el body review lemmatizado) e **y** (stars) para poder realizar los modelos.  \n",
    "\n",
    "Elijo max_features = 500 porque mi computadora no procesa los modelos con max_features = 1000, pero los mismos modelos con 1000 features corridos en Google Colab dan resultados muy similares de MAE y RMSE, por lo que no mejoran los modelos y aumenta mucho el costo computacional."
   ]
  },
  {
   "cell_type": "code",
   "execution_count": 3,
   "metadata": {},
   "outputs": [
    {
     "name": "stdout",
     "output_type": "stream",
     "text": [
      "[1 2 3 4 5] [40000 40000 40000 40000 40000]\n"
     ]
    }
   ],
   "source": [
    "    # Tomamso la lista de palabras y las stars\n",
    "list_reviews = list(dataset_lemma['titular_lemm'].values)\n",
    "stars = dataset_lemma['stars'].values\n",
    "\n",
    "    # Usaremos solo las 500 palabras con mas frecuencia en todo el corpus para generar los vectores\n",
    "max_features = 500\n",
    "\n",
    "    # Es decir que cada instancia tendrá 500 features\n",
    "cou_vec=CountVectorizer(max_features=max_features) # stop_words=\"english\" , ngram_range=(1, 2)\n",
    "\n",
    "matriz = cou_vec.fit_transform(list_reviews)\n",
    "    \n",
    "    # Tomamos las palabras\n",
    "all_words = cou_vec.get_feature_names()\n",
    "\n",
    "x = matriz.toarray()\n",
    "y = stars\n",
    "    \n",
    "unique_elements, counts_elements = np.unique(stars, return_counts=True)\n",
    "print(unique_elements,counts_elements)"
   ]
  },
  {
   "cell_type": "code",
   "execution_count": 7,
   "metadata": {},
   "outputs": [
    {
     "data": {
      "text/plain": [
       "(200000, 500)"
      ]
     },
     "execution_count": 7,
     "metadata": {},
     "output_type": "execute_result"
    }
   ],
   "source": [
    "x.shape"
   ]
  },
  {
   "cell_type": "markdown",
   "metadata": {},
   "source": [
    "Importo el dataset de testeo para evaluar el modelo benchmark y obtengo x_test e y_test para evaluar el modelo benchmark"
   ]
  },
  {
   "cell_type": "code",
   "execution_count": 19,
   "metadata": {},
   "outputs": [
    {
     "name": "stdout",
     "output_type": "stream",
     "text": [
      "(5000, 2)\n"
     ]
    }
   ],
   "source": [
    "# Importo el dataset para testear el modelo entrenado\n",
    "data_test = pd.read_json('dataset_es_test.json', lines= True)\n",
    "data_test.head()\n",
    "\n",
    "# Tomamos las columnas de interés\n",
    "data_test = pd.concat([data_test.review_body,data_test.stars],axis=1)\n",
    "data_test.dropna(axis=0,inplace=True)  # Si hay alguna nan, tiramos esa instancia\n",
    "print(data_test.shape)\n",
    "\n",
    "# data_test.head()"
   ]
  },
  {
   "cell_type": "code",
   "execution_count": 40,
   "metadata": {},
   "outputs": [],
   "source": [
    "lem_list=[]\n",
    "\n",
    "for review_body in data_test.review_body:\n",
    "        # Convierto a nlp \n",
    "    doc = nlp(review_body)\n",
    "        # Lemmatización\n",
    "    output = [word.lemma_ for word in doc] \n",
    "        # Por ultimo volvemos a unir el titular\n",
    "    output = \" \".join(output)\n",
    "        # Uno a la lista vacía\n",
    "    lem_list.append(output)\n",
    "        # pd.set_option('display.max_colwidth', None)\n",
    "        \n",
    "data_test[\"titular_lemm\"] = lem_list  "
   ]
  },
  {
   "cell_type": "code",
   "execution_count": 9,
   "metadata": {},
   "outputs": [],
   "source": [
    "data_test.to_csv (r'/home/lulu/Documents/Acámica/data_test.csv', index = False, header=True)"
   ]
  },
  {
   "cell_type": "code",
   "execution_count": 4,
   "metadata": {},
   "outputs": [
    {
     "data": {
      "text/html": [
       "<div>\n",
       "<style scoped>\n",
       "    .dataframe tbody tr th:only-of-type {\n",
       "        vertical-align: middle;\n",
       "    }\n",
       "\n",
       "    .dataframe tbody tr th {\n",
       "        vertical-align: top;\n",
       "    }\n",
       "\n",
       "    .dataframe thead th {\n",
       "        text-align: right;\n",
       "    }\n",
       "</style>\n",
       "<table border=\"1\" class=\"dataframe\">\n",
       "  <thead>\n",
       "    <tr style=\"text-align: right;\">\n",
       "      <th></th>\n",
       "      <th>titular_lemm</th>\n",
       "      <th>stars</th>\n",
       "    </tr>\n",
       "  </thead>\n",
       "  <tbody>\n",
       "    <tr>\n",
       "      <th>0</th>\n",
       "      <td>no yo llegar el articulo yo él mando por correo normal sin seguimiento y nunca yo llegar tota uno desastre</td>\n",
       "      <td>1</td>\n",
       "    </tr>\n",
       "    <tr>\n",
       "      <th>1</th>\n",
       "      <td>el mensajería horrible , no comprar mas</td>\n",
       "      <td>1</td>\n",
       "    </tr>\n",
       "    <tr>\n",
       "      <th>2</th>\n",
       "      <td>estar mucho decepcionado con el vendedor ya que el pedido no yo llegar a tiempo y no cumplir el plazo de envío y ser uno cosa que necesitar urgente . para colmo yo poner en contacto con el vendedor y no dar señal . no recomendar nada</td>\n",
       "      <td>1</td>\n",
       "    </tr>\n",
       "    <tr>\n",
       "      <th>3</th>\n",
       "      <td>mi valoración no ser sobre el producto sino sobre AMAZON . ofrecéis el producto a 299 € y tras varios día yo devolver el dinero porque tú haber equivocar en el anuncio , según tú , ahora ser 399€. ser el primero vez que yo ocurrir este . cuando haber comprar en cualquiera sitio y el precio marcado no él corresponder con el valor de caja siempre yo él haber vender con el precio marcado . ser inverosímil él ocurrido , pero el ultimo palabra yo él dar el oficina del consumidor</td>\n",
       "      <td>1</td>\n",
       "    </tr>\n",
       "    <tr>\n",
       "      <th>4</th>\n",
       "      <td>pues tener interés en este libro y probar el versión kindle . él abrir el portada pero nada más . parecer uno malo broma pero yo ir a gastar el dedo de tanto tratar que pasar de página de alguno forma . no poder valorar nada de nada .</td>\n",
       "      <td>1</td>\n",
       "    </tr>\n",
       "  </tbody>\n",
       "</table>\n",
       "</div>"
      ],
      "text/plain": [
       "                                                                                                                                                                                                                                                                                                                                                                                                                                                                                     titular_lemm  \\\n",
       "0                                                                                                                                                                                                                                                                                                                                                                                      no yo llegar el articulo yo él mando por correo normal sin seguimiento y nunca yo llegar tota uno desastre   \n",
       "1                                                                                                                                                                                                                                                                                                                                                                                                                                                         el mensajería horrible , no comprar mas   \n",
       "2                                                                                                                                                                                                                                                       estar mucho decepcionado con el vendedor ya que el pedido no yo llegar a tiempo y no cumplir el plazo de envío y ser uno cosa que necesitar urgente . para colmo yo poner en contacto con el vendedor y no dar señal . no recomendar nada   \n",
       "3  mi valoración no ser sobre el producto sino sobre AMAZON . ofrecéis el producto a 299 € y tras varios día yo devolver el dinero porque tú haber equivocar en el anuncio , según tú , ahora ser 399€. ser el primero vez que yo ocurrir este . cuando haber comprar en cualquiera sitio y el precio marcado no él corresponder con el valor de caja siempre yo él haber vender con el precio marcado . ser inverosímil él ocurrido , pero el ultimo palabra yo él dar el oficina del consumidor   \n",
       "4                                                                                                                                                                                                                                                      pues tener interés en este libro y probar el versión kindle . él abrir el portada pero nada más . parecer uno malo broma pero yo ir a gastar el dedo de tanto tratar que pasar de página de alguno forma . no poder valorar nada de nada .   \n",
       "\n",
       "   stars  \n",
       "0      1  \n",
       "1      1  \n",
       "2      1  \n",
       "3      1  \n",
       "4      1  "
      ]
     },
     "execution_count": 4,
     "metadata": {},
     "output_type": "execute_result"
    }
   ],
   "source": [
    "data_test_lemm = pd.read_csv('data_test.csv')\n",
    "data_test_lemm=pd.concat([data_test_lemm.titular_lemm,data_test_lemm.stars],axis=1)\n",
    "data_test_lemm.head()"
   ]
  },
  {
   "cell_type": "code",
   "execution_count": 5,
   "metadata": {},
   "outputs": [
    {
     "name": "stdout",
     "output_type": "stream",
     "text": [
      "[1 2 3 4 5] [1000 1000 1000 1000 1000]\n"
     ]
    }
   ],
   "source": [
    "    # Tomamso la lista de palabras y las stars\n",
    "list_reviews_test = list(data_test_lemm['titular_lemm'].values)\n",
    "stars_test = data_test_lemm['stars'].values\n",
    "\n",
    "matriz_test = cou_vec.transform(list_reviews_test)\n",
    "    \n",
    "    # Tomamos las palabras\n",
    "all_words_test = cou_vec.get_feature_names()\n",
    "\n",
    "x_test = matriz_test.toarray()\n",
    "y_test = stars_test\n",
    "    \n",
    "unique_elements, counts_elements = np.unique(stars_test, return_counts=True)\n",
    "print(unique_elements,counts_elements)"
   ]
  },
  {
   "cell_type": "code",
   "execution_count": 10,
   "metadata": {},
   "outputs": [
    {
     "data": {
      "text/plain": [
       "(5000, 500)"
      ]
     },
     "execution_count": 10,
     "metadata": {},
     "output_type": "execute_result"
    }
   ],
   "source": [
    "x_test.shape"
   ]
  },
  {
   "cell_type": "markdown",
   "metadata": {},
   "source": [
    "### Modelo 1: Regresión lineal (Benchmark)"
   ]
  },
  {
   "cell_type": "code",
   "execution_count": null,
   "metadata": {},
   "outputs": [],
   "source": [
    "# Realizo la regresión lineal\n",
    "reg = LinearRegression()\n",
    "reg.fit(x, y)"
   ]
  },
  {
   "cell_type": "markdown",
   "metadata": {},
   "source": [
    "LinearRegression(copy_X=True, fit_intercept=True, n_jobs=None, normalize=False)\n",
    "\n",
    "(Celdas ejecutadas en Google Colab por capacidad computacional)"
   ]
  },
  {
   "cell_type": "code",
   "execution_count": null,
   "metadata": {},
   "outputs": [],
   "source": [
    "y_train_pred = reg.predict(x)\n",
    "y_test_pred = reg.predict(x_test)"
   ]
  },
  {
   "cell_type": "code",
   "execution_count": null,
   "metadata": {},
   "outputs": [],
   "source": [
    "# Evalúo el modelo con MAE\n",
    "mae_train = mean_absolute_error(y, y_train_pred)\n",
    "mae_test = mean_absolute_error(y_test, y_test_pred)\n",
    "\n",
    "print('MAE en train:', mae_train)\n",
    "print('MAE en test:', mae_test)"
   ]
  },
  {
   "cell_type": "markdown",
   "metadata": {},
   "source": [
    "MAE en train: 0.8534368439049714  \n",
    "MAE en test: 0.8549808263632028"
   ]
  },
  {
   "cell_type": "code",
   "execution_count": null,
   "metadata": {},
   "outputs": [],
   "source": [
    "# Evalúo el modelo con RMSE\n",
    "rmse_train = mean_squared_error(y, y_train_pred, squared=False)\n",
    "rmse_test = mean_squared_error(y_test, y_test_pred, squared=False)\n",
    "print('RMSE en train:', rmse_train)\n",
    "print('RMSE en test:', rmse_test)"
   ]
  },
  {
   "cell_type": "markdown",
   "metadata": {},
   "source": [
    "RMSE en train: 1.041702200472837   \n",
    "**RMSE en test: 1.044617102183501**\n",
    "\n",
    "Grafico la distribución de errores."
   ]
  },
  {
   "cell_type": "code",
   "execution_count": null,
   "metadata": {},
   "outputs": [],
   "source": [
    "plt.figure(figsize = (10,5))\n",
    "plt.subplot(1,2,1)\n",
    "sns.distplot(y - y_train_pred, bins = 20, label = 'train')\n",
    "sns.distplot(y_test - y_test_pred, bins = 20, label = 'test')\n",
    "plt.xlabel('Distribución de errores en Regresión lineal')\n",
    "plt.legend()\n",
    "ax = plt.subplot(1,2,2)\n",
    "ax.scatter(y_test,y_test_pred, s =2)\n",
    "lims = [1, 5]\n",
    "ax.plot(lims, lims, 'k-', alpha=0.75, zorder=0)\n",
    "# ax.plot(lims, lims, 'k-', alpha=0.75)\n",
    "plt.xlabel('y (test)')\n",
    "plt.ylabel('y_pred (test)')\n",
    "plt.tight_layout()\n",
    "plt.show()"
   ]
  },
  {
   "cell_type": "code",
   "execution_count": 1,
   "metadata": {},
   "outputs": [
    {
     "data": {
      "image/png": "[encoded data removed]",
      "text/plain": [
       "<IPython.core.display.Image object>"
      ]
     },
     "execution_count": 1,
     "metadata": {},
     "output_type": "execute_result"
    }
   ],
   "source": [
    "from IPython.display import Image\n",
    "Image(\"reglinealerrores.png\")  # Corrido en Google Colab"
   ]
  },
  {
   "cell_type": "markdown",
   "metadata": {},
   "source": [
    "#### **Conclusiones del Modelo benchmark**\n",
    "\n",
    "Este modelo presenta similares resultados para las métricas de MAE y RMSE para Train y Test, por lo que se puede concluir que no está produciendo ni sobre ni subajuste. El error absoluto está cercano a 0.85, por lo que podríamos esperar una predicción del modelo de +/- 1 star para cada calificación.\n",
    "\n",
    "Se puede ver que los errores siguen una distribución normal y que se comenten errores tanto positivos como negativos para cada calificación. "
   ]
  },
  {
   "cell_type": "markdown",
   "metadata": {},
   "source": [
    "### Modelo 2: Elección del modelo\n",
    "\n",
    "Realizo una prueba incial con 2 modelos: Random Forest Regressor y XGBoost (con hiperparámetros sin optimizar). En base a su performance elegiré el modelo al cual luego realizaré la optimización de hiperparámetros.\n",
    "\n",
    "**1) Random Forest Regressor**"
   ]
  },
  {
   "cell_type": "code",
   "execution_count": null,
   "metadata": {},
   "outputs": [],
   "source": [
    "rf = RandomForestRegressor(max_depth=15, random_state=42)  \n",
    "rf.fit(x, y)"
   ]
  },
  {
   "cell_type": "markdown",
   "metadata": {},
   "source": [
    "RandomForestRegressor(bootstrap=True, ccp_alpha=0.0, criterion='mse',\n",
    "                      max_depth=15, max_features='auto', max_leaf_nodes=None,\n",
    "                      max_samples=None, min_impurity_decrease=0.0,\n",
    "                      min_impurity_split=None, min_samples_leaf=1,\n",
    "                      min_samples_split=2, min_weight_fraction_leaf=0.0,\n",
    "                      n_estimators=100, n_jobs=None, oob_score=False,\n",
    "                      random_state=42, verbose=0, warm_start=False)\n",
    "\n",
    "Nota: mi computadora tarda demasiado en correr el .fit. Esta parte fue corrida en Google Colab. Se copian los resultados obtenidos. Elegí max_depth = 15 en lugar del parámetro por default \"None\" debido al costo computacional de dicho modelo."
   ]
  },
  {
   "cell_type": "code",
   "execution_count": 11,
   "metadata": {},
   "outputs": [],
   "source": [
    "y_pred_train_rf = rf.predict(x)\n",
    "y_pred_test_rf = rf.predict(x_test)"
   ]
  },
  {
   "cell_type": "code",
   "execution_count": null,
   "metadata": {},
   "outputs": [],
   "source": [
    "# Evalúo el modelo con MAE\n",
    "mae_train_rf = mean_absolute_error(y, y_pred_train_rf)\n",
    "mae_test_rf = mean_absolute_error(y_test, y_pred_test_rf)\n",
    "\n",
    "print('MAE en train:', mae_train_rf)\n",
    "print('MAE en test:', mae_test_rf)"
   ]
  },
  {
   "cell_type": "markdown",
   "metadata": {},
   "source": [
    "MAE en train: 0.8188767238567535    \n",
    "MAE en test: 0.8535165299346449"
   ]
  },
  {
   "cell_type": "code",
   "execution_count": null,
   "metadata": {},
   "outputs": [],
   "source": [
    "# Evalúo el modelo con RMSE\n",
    "rmse_train_rf = mean_squared_error(y, y_train_pred_rf, squared=False)\n",
    "rmse_test_rf = mean_squared_error(y_test, y_test_pred_rf, squared=False)\n",
    "print('RMSE en train:', rmse_train_rf)\n",
    "print('RMSE en test:', rmse_test_rf)"
   ]
  },
  {
   "cell_type": "markdown",
   "metadata": {},
   "source": [
    "RMSE en train: 1.018445602436834   \n",
    "**RMSE en test: 1.0609530271379266**"
   ]
  },
  {
   "cell_type": "markdown",
   "metadata": {},
   "source": [
    "**2) XGBoost Regressor**"
   ]
  },
  {
   "cell_type": "code",
   "execution_count": 15,
   "metadata": {},
   "outputs": [
    {
     "data": {
      "text/plain": [
       "XGBRegressor(base_score=0.5, booster='gbtree', colsample_bylevel=1,\n",
       "             colsample_bynode=1, colsample_bytree=1, gamma=0, gpu_id=-1,\n",
       "             importance_type='gain', interaction_constraints='',\n",
       "             learning_rate=0.300000012, max_delta_step=0, max_depth=6,\n",
       "             min_child_weight=1, missing=nan, monotone_constraints='()',\n",
       "             n_estimators=100, n_jobs=4, num_parallel_tree=1, random_state=0,\n",
       "             reg_alpha=0, reg_lambda=1, scale_pos_weight=1, subsample=1,\n",
       "             tree_method='exact', validate_parameters=1, verbosity=None)"
      ]
     },
     "execution_count": 15,
     "metadata": {},
     "output_type": "execute_result"
    }
   ],
   "source": [
    "import xgboost as xgb\n",
    "\n",
    "# Defino el modelo\n",
    "xg_reg = xgb.XGBRegressor()\n",
    "\n",
    "# Entreno el modelo\n",
    "xg_reg.fit(x,y)"
   ]
  },
  {
   "cell_type": "code",
   "execution_count": 16,
   "metadata": {},
   "outputs": [],
   "source": [
    "# Realizo las predicciones\n",
    "y_train_pred_xg = xg_reg.predict(x)\n",
    "y_test_pred_xg = xg_reg.predict(x_test)"
   ]
  },
  {
   "cell_type": "code",
   "execution_count": 20,
   "metadata": {},
   "outputs": [
    {
     "name": "stdout",
     "output_type": "stream",
     "text": [
      "MAE en train: 0.7317831715399411\n",
      "MAE en test: 0.7643885960876942\n"
     ]
    }
   ],
   "source": [
    "# Evalúo el modelo con MAE\n",
    "mae_train_xg = mean_absolute_error(y, y_train_pred_xg)\n",
    "mae_test_xg = mean_absolute_error(y_test, y_test_pred_xg)\n",
    "\n",
    "print('MAE en train:', mae_train_xg)\n",
    "print('MAE en test:', mae_test_xg)"
   ]
  },
  {
   "cell_type": "code",
   "execution_count": 21,
   "metadata": {},
   "outputs": [
    {
     "name": "stdout",
     "output_type": "stream",
     "text": [
      "RMSE en train: 0.9155445788141784\n",
      "RMSE en test: 0.9515596338531525\n"
     ]
    }
   ],
   "source": [
    "# Evalúo el modelo con RMSE\n",
    "rmse_train_xg = mean_squared_error(y, y_train_pred_xg, squared=False)\n",
    "rmse_test_xg = mean_squared_error(y_test, y_test_pred_xg, squared=False)\n",
    "print('RMSE en train:', rmse_train_xg)\n",
    "print('RMSE en test:', rmse_test_xg)"
   ]
  },
  {
   "cell_type": "markdown",
   "metadata": {},
   "source": [
    "#### **Elección del modelo para optimizar hiperparámetros**\n",
    "\n",
    "En base a los resultados obtenidos de MAE y RMSE del test set en los 2 modelos candidatos para este proyecto, decido continuar la optimización de hiperparámetros con el modelo **XGBoost Regressor**. \n",
    "\n",
    "**XGBoost Regressor**  \n",
    "MAE en test: 0.7643885960876942    \n",
    "RMSE en test: 0.9515596338531525  \n",
    "\n",
    "**Random Forest Regressor**  \n",
    "MAE en test: 0.8535165299346449   \n",
    "RMSE en test: 1.0609530271379266"
   ]
  },
  {
   "cell_type": "markdown",
   "metadata": {},
   "source": [
    "### Optimización de hiperparámetros XGBoost Regressor"
   ]
  },
  {
   "cell_type": "code",
   "execution_count": 12,
   "metadata": {},
   "outputs": [],
   "source": [
    "param_grid = {\n",
    "        'max_depth': [1, 2, 3, 4, 5, 6],\n",
    "        'learning_rate': [0.01, 0.05, 0.1, 0.2, 0.3],\n",
    "        'n_estimators': [200, 300, 400, 500, 600],\n",
    "        'colsample_bytree': [0.6, 0.8, 1.0],\n",
    "        'subsample': [0.6, 0.8, 1.0],\n",
    "            }\n",
    "\n",
    "gbm = xgb.XGBRegressor(n_jobs=-1)"
   ]
  },
  {
   "cell_type": "code",
   "execution_count": 13,
   "metadata": {},
   "outputs": [
    {
     "data": {
      "text/plain": [
       "RandomizedSearchCV(cv=5,\n",
       "                   estimator=XGBRegressor(base_score=None, booster=None,\n",
       "                                          colsample_bylevel=None,\n",
       "                                          colsample_bynode=None,\n",
       "                                          colsample_bytree=None, gamma=None,\n",
       "                                          gpu_id=None, importance_type='gain',\n",
       "                                          interaction_constraints=None,\n",
       "                                          learning_rate=None,\n",
       "                                          max_delta_step=None, max_depth=None,\n",
       "                                          min_child_weight=None, missing=nan,\n",
       "                                          monotone_constraints=None,\n",
       "                                          n_estimators=100, n...\n",
       "                                          random_state=None, reg_alpha=None,\n",
       "                                          reg_lambda=None,\n",
       "                                          scale_pos_weight=None, subsample=None,\n",
       "                                          tree_method=None,\n",
       "                                          validate_parameters=None,\n",
       "                                          verbosity=None),\n",
       "                   param_distributions={'colsample_bytree': [0.6, 0.8, 1.0],\n",
       "                                        'learning_rate': [0.01, 0.05, 0.1, 0.2,\n",
       "                                                          0.3],\n",
       "                                        'max_depth': [1, 2, 3, 4, 5, 6],\n",
       "                                        'n_estimators': [200, 300, 400, 500,\n",
       "                                                         600],\n",
       "                                        'subsample': [0.6, 0.8, 1.0]},\n",
       "                   random_state=42, scoring='neg_mean_squared_error')"
      ]
     },
     "execution_count": 13,
     "metadata": {},
     "output_type": "execute_result"
    }
   ],
   "source": [
    "randomized_mse = RandomizedSearchCV(param_distributions=param_grid, estimator=gbm, \n",
    "#                                     n_iter=20,\n",
    "                                    scoring=\"neg_mean_squared_error\", \n",
    "                                    refit=True, verbose=0, cv=5, random_state=42)\n",
    "randomized_mse.fit(x, y)"
   ]
  },
  {
   "cell_type": "code",
   "execution_count": 14,
   "metadata": {},
   "outputs": [
    {
     "name": "stdout",
     "output_type": "stream",
     "text": [
      "-1.7119860748630504\n",
      "XGBRegressor(base_score=0.5, booster='gbtree', colsample_bylevel=1,\n",
      "             colsample_bynode=1, colsample_bytree=1.0, gamma=0, gpu_id=-1,\n",
      "             importance_type='gain', interaction_constraints='',\n",
      "             learning_rate=0.2, max_delta_step=0, max_depth=5,\n",
      "             min_child_weight=1, missing=nan, monotone_constraints='()',\n",
      "             n_estimators=400, n_jobs=-1, num_parallel_tree=1, random_state=0,\n",
      "             reg_alpha=0, reg_lambda=1, scale_pos_weight=1, subsample=1.0,\n",
      "             tree_method='exact', validate_parameters=1, verbosity=None)\n"
     ]
    }
   ],
   "source": [
    "print(randomized_mse.best_score_)\n",
    "print(randomized_mse.best_estimator_)"
   ]
  },
  {
   "cell_type": "markdown",
   "metadata": {},
   "source": [
    "### Entreno el modelo con los hiperparámetros optimizados\n",
    "\n",
    "Diferencias con el modelo benchmark: learning_rate=0.2, max_depth=5, n_estimators=400, n_jobs=-1"
   ]
  },
  {
   "cell_type": "code",
   "execution_count": 6,
   "metadata": {},
   "outputs": [],
   "source": [
    "xg2 = xgb.XGBRegressor(base_score=0.5, booster='gbtree', colsample_bylevel=1,\n",
    "             colsample_bynode=1, colsample_bytree=1.0, gamma=0, gpu_id=-1,\n",
    "             importance_type='gain', interaction_constraints='',\n",
    "             learning_rate=0.2, max_delta_step=0, max_depth=5,\n",
    "             min_child_weight=1, monotone_constraints='()',\n",
    "             n_estimators=400, n_jobs=-1, num_parallel_tree=1, random_state=0,\n",
    "             reg_alpha=0, reg_lambda=1, scale_pos_weight=1, subsample=1.0,\n",
    "             tree_method='exact', validate_parameters=1, verbosity=None)"
   ]
  },
  {
   "cell_type": "code",
   "execution_count": 7,
   "metadata": {},
   "outputs": [
    {
     "data": {
      "text/plain": [
       "XGBRegressor(base_score=0.5, booster='gbtree', colsample_bylevel=1,\n",
       "             colsample_bynode=1, colsample_bytree=1.0, gamma=0, gpu_id=-1,\n",
       "             importance_type='gain', interaction_constraints='',\n",
       "             learning_rate=0.2, max_delta_step=0, max_depth=5,\n",
       "             min_child_weight=1, missing=nan, monotone_constraints='()',\n",
       "             n_estimators=400, n_jobs=-1, num_parallel_tree=1, random_state=0,\n",
       "             reg_alpha=0, reg_lambda=1, scale_pos_weight=1, subsample=1.0,\n",
       "             tree_method='exact', validate_parameters=1, verbosity=None)"
      ]
     },
     "execution_count": 7,
     "metadata": {},
     "output_type": "execute_result"
    }
   ],
   "source": [
    "# Entreno el modelo\n",
    "xg2.fit(x,y)"
   ]
  },
  {
   "cell_type": "code",
   "execution_count": 8,
   "metadata": {},
   "outputs": [],
   "source": [
    "# Realizo las predicciones\n",
    "y_train_pred_xg2 = xg2.predict(x)\n",
    "y_test_pred_xg2 = xg2.predict(x_test)"
   ]
  },
  {
   "cell_type": "code",
   "execution_count": 9,
   "metadata": {},
   "outputs": [
    {
     "name": "stdout",
     "output_type": "stream",
     "text": [
      "MAE en train: 0.7114437967550163\n",
      "MAE en test: 0.747839562259987\n"
     ]
    }
   ],
   "source": [
    "# Evalúo el modelo con MAE\n",
    "mae_train_xg2 = mean_absolute_error(y, y_train_pred_xg2)\n",
    "mae_test_xg2 = mean_absolute_error(y_test, y_test_pred_xg2)\n",
    "\n",
    "print('MAE en train:', mae_train_xg2)\n",
    "print('MAE en test:', mae_test_xg2)"
   ]
  },
  {
   "cell_type": "code",
   "execution_count": 10,
   "metadata": {},
   "outputs": [
    {
     "name": "stdout",
     "output_type": "stream",
     "text": [
      "RMSE en train: 0.8924199283513534\n",
      "RMSE en test: 0.9362712223904424\n"
     ]
    }
   ],
   "source": [
    "# Evalúo el modelo con RMSE\n",
    "rmse_train_xg2 = mean_squared_error(y, y_train_pred_xg2, squared=False)\n",
    "rmse_test_xg2 = mean_squared_error(y_test, y_test_pred_xg2, squared=False)\n",
    "print('RMSE en train:', rmse_train_xg2)\n",
    "print('RMSE en test:', rmse_test_xg2)"
   ]
  },
  {
   "cell_type": "code",
   "execution_count": 20,
   "metadata": {},
   "outputs": [],
   "source": [
    "# save to JSON\n",
    "xg2.save_model(\"model_xg2.json\")\n",
    "# save to text format\n",
    "xg2.save_model(\"model_xg2.txt\")"
   ]
  },
  {
   "cell_type": "code",
   "execution_count": 16,
   "metadata": {},
   "outputs": [
    {
     "name": "stderr",
     "output_type": "stream",
     "text": [
      "/home/lulu/anaconda2/envs/datascience/lib/python3.7/site-packages/seaborn/distributions.py:2551: FutureWarning: `distplot` is a deprecated function and will be removed in a future version. Please adapt your code to use either `displot` (a figure-level function with similar flexibility) or `histplot` (an axes-level function for histograms).\n",
      "  warnings.warn(msg, FutureWarning)\n",
      "/home/lulu/anaconda2/envs/datascience/lib/python3.7/site-packages/seaborn/distributions.py:2551: FutureWarning: `distplot` is a deprecated function and will be removed in a future version. Please adapt your code to use either `displot` (a figure-level function with similar flexibility) or `histplot` (an axes-level function for histograms).\n",
      "  warnings.warn(msg, FutureWarning)\n"
     ]
    },
    {
     "data": {
      "image/png": "[encoded data removed]",
      "text/plain": [
       "<Figure size 720x360 with 2 Axes>"
      ]
     },
     "metadata": {
      "needs_background": "light"
     },
     "output_type": "display_data"
    }
   ],
   "source": [
    "plt.figure(figsize = (10,5))\n",
    "plt.subplot(1,2,1)\n",
    "sns.distplot(y - y_train_pred_xg2, bins = 20, label = 'train')\n",
    "sns.distplot(y_test - y_test_pred_xg2, bins = 20, label = 'test')\n",
    "plt.xlabel('Distribución de errores en XGBoost Regressor')\n",
    "plt.legend()\n",
    "ax = plt.subplot(1,2,2)\n",
    "ax.scatter(y_test,y_test_pred_xg2, s =2)\n",
    "lims = [1, 5]\n",
    "ax.plot(lims, lims, 'k-', alpha=0.75, zorder=0)\n",
    "# ax.plot(lims, lims, 'k-', alpha=0.75)\n",
    "plt.xlabel('y (test)')\n",
    "plt.ylabel('y_pred (test)')\n",
    "plt.tight_layout()\n",
    "plt.show()"
   ]
  },
  {
   "cell_type": "markdown",
   "metadata": {},
   "source": [
    "La distribución de errores sigue una distribución normal tanto para el set de entrenamiento como de testeo, y puede verse que el modelo tiene a sobrestimar los productos con 1 star (la mayor parte de los puntos se ubican por encima del 1) y a subestimar las calificaciones de 5 stars (la mayor parte de los puntos se ubica por debajo). Para las 3 calificaciones centrales (2, 3, y 4) las calificaciones son un poco más parejas respecto a la sobre y sub estimación."
   ]
  },
  {
   "cell_type": "markdown",
   "metadata": {},
   "source": [
    "### Optimización de hiperparámetros\n",
    "\n",
    "La optimización de hiperparámetros logró una leve mejora en el desempeño del modelo:\n",
    "\n",
    "**XGBoost Regressor sin optimización de hiperparámetros**  \n",
    "MAE en test: 0.7643885960876942    \n",
    "RMSE en test: 0.9515596338531525  \n",
    "\n",
    "**XGBoost Regressor con optimización de hiperparámetros**     \n",
    "MAE en test: 0.747839562259987    \n",
    "RMSE en test: 0.9362712223904424 \n",
    "\n",
    "### Features importantes para el modelo"
   ]
  },
  {
   "cell_type": "code",
   "execution_count": 114,
   "metadata": {},
   "outputs": [
    {
     "data": {
      "image/png": "[encoded data removed]",
      "text/plain": [
       "<Figure size 720x432 with 1 Axes>"
      ]
     },
     "metadata": {
      "needs_background": "light"
     },
     "output_type": "display_data"
    }
   ],
   "source": [
    "plt.rcParams[\"figure.figsize\"] = (10, 6)\n",
    "plot_importance(xg2, max_num_features=20)\n",
    "plt.show()"
   ]
  },
  {
   "cell_type": "code",
   "execution_count": 119,
   "metadata": {},
   "outputs": [
    {
     "data": {
      "text/plain": [
       "0    estar\n",
       "Name: 190, dtype: object"
      ]
     },
     "execution_count": 119,
     "metadata": {},
     "output_type": "execute_result"
    }
   ],
   "source": [
    "# Para saber a qué palabra corresponde cada feature\n",
    "nombres = cou_vec.get_feature_names()\n",
    "nombres_df = pd.DataFrame(nombres)\n",
    "nombres_df.iloc[190]"
   ]
  },
  {
   "cell_type": "markdown",
   "metadata": {},
   "source": [
    "Las palabras del gráfico, de mayor a menor score, son: 'no', 'el', 'pero', 'mucho', 'él', 'buen', 'bien', 'de', 'ser', 'uno', 'que', 'para', 'perfecto', 'yo', 'devolver', 'poco', 'haber', 'al', 'en', 'estar'.\n",
    "\n",
    "Podemos ver que muchas de estas palabras se encontraban en la lista de palabras más frecuentes vistas en la Parte A del proyecto, por lo que era esperable encontrarlas como importantes para el modelo. Algunas de ellas se relacionan con calificativos y tienen asociaciones más positivas o negativas ('bien', 'buen', 'perfecto', 'devolver' o 'poco') y otras no, pero son palabras muy comunes a todas las críticas ('el', 'de', 'que' por ejemplo)."
   ]
  },
  {
   "cell_type": "markdown",
   "metadata": {},
   "source": [
    "### Accuracy\n",
    "\n",
    "Para comparar el resultado de este modelo con la conversión del problema a uno binario (ver Parte C) voy a obtener el Accuracy para el XGBoost Regressor optimizado. Para ello comienzo redondeando los valores obtenidos de la regresión al valor entero más próximo, con un rango entre 1 y 5."
   ]
  },
  {
   "cell_type": "code",
   "execution_count": 201,
   "metadata": {},
   "outputs": [
    {
     "data": {
      "text/plain": [
       "array([0., 1., 2., 3., 4., 5., 6., 7.], dtype=float32)"
      ]
     },
     "execution_count": 201,
     "metadata": {},
     "output_type": "execute_result"
    }
   ],
   "source": [
    "y_round = y_test_pred_xg2\n",
    "y_round = np.round(y_round)\n",
    "np.unique(y_round)"
   ]
  },
  {
   "cell_type": "code",
   "execution_count": 202,
   "metadata": {},
   "outputs": [
    {
     "data": {
      "text/plain": [
       "array([1., 2., 3., 4., 5.])"
      ]
     },
     "execution_count": 202,
     "metadata": {},
     "output_type": "execute_result"
    }
   ],
   "source": [
    "y_final = []\n",
    "\n",
    "for y in y_round:\n",
    "    if y < 1:\n",
    "        y = 1\n",
    "    elif y > 5:\n",
    "        y = 5\n",
    "    else:\n",
    "        y = y\n",
    "    y_final.append(y)\n",
    "        \n",
    "np.unique(y_final)"
   ]
  },
  {
   "cell_type": "code",
   "execution_count": 203,
   "metadata": {},
   "outputs": [
    {
     "name": "stdout",
     "output_type": "stream",
     "text": [
      "Accuracy sobre XGBoost Regressor: 0.41\n",
      "Número de instancias correctamente clasificadas por XGBoost Regressor: 2050\n"
     ]
    }
   ],
   "source": [
    "# Accuracy sobre XGBoost Regressor\n",
    "acc = accuracy_score(y_test, y_final)\n",
    "print('Accuracy sobre XGBoost Regressor:', acc)\n",
    "acc_2 = accuracy_score(y_test, y_final, normalize=False)\n",
    "print('Número de instancias correctamente clasificadas por XGBoost Regressor:', acc_2)"
   ]
  },
  {
   "cell_type": "markdown",
   "metadata": {},
   "source": [
    "### **3 - Parte C**\n",
    "\n",
    "\n",
    "### ¿Problema binario?\n",
    "\n",
    "Creo que es probable que si se considera como un problema de clasificación las predicciones funcionen mejor convirtiendo el problema a uno binario, ya que el modelo solamente tendría que asignar las calificaciones a una de dos posibles que son opuestas y excluyentes. \n",
    "\n",
    "Voy a comenzar realizando un preprocesamiento de los datos convirtiendo las stasr en calificaciones Positivas o Negativas.  \n",
    "El criterio será el siguiente:     \n",
    "**Positivo (1): 4 y 5 stars   \n",
    "Negativo (0): 1 y 2 stars**   \n",
    "\n",
    "Elimino las calificaciones correspondientes a 3 stars ya que se consideran neutrales. "
   ]
  },
  {
   "cell_type": "code",
   "execution_count": 108,
   "metadata": {},
   "outputs": [],
   "source": [
    "# Importo el dataset lemmatizado\n",
    "dataset_lemma = pd.read_csv('dataset_lemma.csv')\n",
    "dataset_lemma=pd.concat([dataset_lemma.titular_lemm,dataset_lemma.stars],axis=1)"
   ]
  },
  {
   "cell_type": "code",
   "execution_count": 109,
   "metadata": {},
   "outputs": [
    {
     "name": "stdout",
     "output_type": "stream",
     "text": [
      "[1 2 4 5]\n",
      "(array([0, 1]), array([80000, 80000]))\n"
     ]
    },
    {
     "name": "stderr",
     "output_type": "stream",
     "text": [
      "/home/lulu/anaconda2/envs/datascience/lib/python3.7/site-packages/pandas/core/series.py:4582: SettingWithCopyWarning: \n",
      "A value is trying to be set on a copy of a slice from a DataFrame\n",
      "\n",
      "See the caveats in the documentation: https://pandas.pydata.org/pandas-docs/stable/user_guide/indexing.html#returning-a-view-versus-a-copy\n",
      "  method=method,\n"
     ]
    }
   ],
   "source": [
    "# Convierto la columna Stars a int\n",
    "dataset_lemma['stars'] = dataset_lemma['stars'].astype(int)\n",
    "# Elimino stars = 3 (neutrales)\n",
    "dataset2 = dataset_lemma[dataset_lemma['stars']!=3]\n",
    "\n",
    "# Confirmo que sólo me quedo con 1,2,4,5 stars\n",
    "unique_stars = np.unique(dataset2['stars'])\n",
    "print(unique_stars)\n",
    "\n",
    "# Cambio las calificaciones 1 = Positivo (4 y 5 stars), 0 = Negativo (1 y 2 stars)\n",
    "dataset2[\"stars\"].replace({1: 0, 2: 0, 4: 1, 5: 1}, inplace=True)\n",
    "dataset2 = dataset2.rename(columns={'stars': 'label'})\n",
    "\n",
    "# Confirmo que sólo tengo 2 etiquetas con iguales críticas cada una\n",
    "unique_labels = np.unique(dataset2['label'], return_counts=True)\n",
    "print(unique_labels)\n",
    "\n",
    "# dataset2.head()"
   ]
  },
  {
   "cell_type": "markdown",
   "metadata": {},
   "source": [
    "Defino x e y para entrenar los modelos"
   ]
  },
  {
   "cell_type": "code",
   "execution_count": 110,
   "metadata": {},
   "outputs": [
    {
     "data": {
      "text/plain": [
       "(array([0, 1]), array([80000, 80000]))"
      ]
     },
     "execution_count": 110,
     "metadata": {},
     "output_type": "execute_result"
    }
   ],
   "source": [
    "    # Tomamso la lista de palabras y las stars\n",
    "list_reviews2 = list(dataset2['titular_lemm'].values)\n",
    "label2 = dataset2['label'].values\n",
    "\n",
    "    # Usaremos solo las 500 palabras con mas frecuencia en todo el corpus para generar los vectores\n",
    "max_features = 500\n",
    "\n",
    "    # Es decir que cada instancia tendrá 500 features\n",
    "cou_vec2 = CountVectorizer(max_features=max_features) # stop_words=\"english\" , ngram_range=(1, 2)\n",
    "\n",
    "matriz2 = cou_vec2.fit_transform(list_reviews2)\n",
    "    \n",
    "    # Tomamos las palabras\n",
    "all_words2 = cou_vec2.get_feature_names()\n",
    "\n",
    "x2 = matriz2.toarray()\n",
    "y2 = label2\n",
    "    \n",
    "unique_elements2 = np.unique(label2, return_counts=True)\n",
    "unique_elements2"
   ]
  },
  {
   "cell_type": "markdown",
   "metadata": {},
   "source": [
    "Repito con el test set"
   ]
  },
  {
   "cell_type": "code",
   "execution_count": 111,
   "metadata": {},
   "outputs": [
    {
     "name": "stdout",
     "output_type": "stream",
     "text": [
      "[1 2 4 5]\n"
     ]
    },
    {
     "data": {
      "text/plain": [
       "(array([0, 1]), array([2000, 2000]))"
      ]
     },
     "execution_count": 111,
     "metadata": {},
     "output_type": "execute_result"
    }
   ],
   "source": [
    "data_test_lemm2 = pd.read_csv('data_test.csv')\n",
    "data_test_lemm2 = pd.concat([data_test_lemm2.titular_lemm,data_test_lemm2.stars],axis=1)\n",
    "\n",
    "data_test_lemm2['stars'] = data_test_lemm2['stars'].astype(int) #convert the star_rating column to int \n",
    "data_test_lemm2 = data_test_lemm2[data_test_lemm2['stars']!=3]\n",
    "\n",
    "unique_stars_test2 = np.unique(data_test_lemm2['stars'])\n",
    "print(unique_stars_test2)\n",
    "\n",
    "data_test_lemm2[\"stars\"].replace({1: 0, 2: 0, 4: 1, 5: 1}, inplace=True)\n",
    "data_test_lemm2 = data_test_lemm2.rename(columns={'stars': 'label'})\n",
    "\n",
    "unique_labels_test2 = np.unique(data_test_lemm2['label'], return_counts=True)\n",
    "unique_labels_test2"
   ]
  },
  {
   "cell_type": "code",
   "execution_count": 112,
   "metadata": {},
   "outputs": [
    {
     "data": {
      "text/plain": [
       "(array([0, 1]), array([2000, 2000]))"
      ]
     },
     "execution_count": 112,
     "metadata": {},
     "output_type": "execute_result"
    }
   ],
   "source": [
    "    # Tomamso la lista de palabras y las stars\n",
    "list_reviews_test2 = list(data_test_lemm2['titular_lemm'].values)\n",
    "label_test2 = data_test_lemm2['label'].values\n",
    "\n",
    "matriz_test2 = cou_vec2.transform(list_reviews_test2)\n",
    "    \n",
    "    # Tomamos las palabras\n",
    "all_words_test2 = cou_vec2.get_feature_names()\n",
    "\n",
    "x_test2 = matriz_test2.toarray()\n",
    "y_test2 = label_test2\n",
    "    \n",
    "unique_elements_test2 = np.unique(label_test2, return_counts=True)\n",
    "unique_elements_test2"
   ]
  },
  {
   "cell_type": "markdown",
   "metadata": {},
   "source": [
    "Ahora el problema se vuelve una clasificación binaria, por lo que voy a probar con modelos para la clasificación (a) Naive Bayes, b) Regresión logística y c) XGBoost Classifier)"
   ]
  },
  {
   "cell_type": "code",
   "execution_count": 113,
   "metadata": {},
   "outputs": [],
   "source": [
    "def confusion2(ytest,y_pred):\n",
    "    names = [0,1]\n",
    "    cm=confusion_matrix(ytest,y_pred)\n",
    "    f,ax=plt.subplots(figsize=(5,5))\n",
    "    sns.heatmap(cm,annot=True,linewidth=.5,linecolor=\"r\",fmt=\".0f\",ax=ax)\n",
    "    plt.xlabel(\"y_pred\")\n",
    "    plt.ylabel(\"y_true\")\n",
    "    ax.set_xticklabels(names)\n",
    "    ax.set_yticklabels(names)\n",
    "    plt.show()\n",
    "    return"
   ]
  },
  {
   "cell_type": "markdown",
   "metadata": {},
   "source": [
    "### a) Naive Bayes"
   ]
  },
  {
   "cell_type": "code",
   "execution_count": 134,
   "metadata": {},
   "outputs": [
    {
     "data": {
      "text/plain": [
       "GaussianNB()"
      ]
     },
     "execution_count": 134,
     "metadata": {},
     "output_type": "execute_result"
    }
   ],
   "source": [
    "nb = GaussianNB()\n",
    "nb.fit(x2, y2)"
   ]
  },
  {
   "cell_type": "code",
   "execution_count": 135,
   "metadata": {},
   "outputs": [],
   "source": [
    "y_pred_train_nb = nb.predict(x2)\n",
    "y_pred_test_nb = nb.predict(x_test2)"
   ]
  },
  {
   "cell_type": "code",
   "execution_count": 136,
   "metadata": {},
   "outputs": [
    {
     "name": "stdout",
     "output_type": "stream",
     "text": [
      "Accuracy en train:  0.76151875\n",
      "Accuracy en test:  0.756\n",
      "Número de instancias correctamente clasificadas por XGBoost Regressor: 3024\n"
     ]
    }
   ],
   "source": [
    "print(\"Accuracy en train: \", nb.score(x2,y2))\n",
    "print(\"Accuracy en test: \", nb.score(x_test2,y_test2))\n",
    "acc_nb = accuracy_score(y_test2,y_pred_test_nb, normalize=False)\n",
    "print('Número de instancias correctamente clasificadas por XGBoost Regressor:', acc_nb)"
   ]
  },
  {
   "cell_type": "code",
   "execution_count": 11,
   "metadata": {},
   "outputs": [
    {
     "data": {
      "image/png": "[encoded data removed]",
      "text/plain": [
       "<Figure size 360x360 with 2 Axes>"
      ]
     },
     "metadata": {
      "needs_background": "light"
     },
     "output_type": "display_data"
    }
   ],
   "source": [
    "# Realizo la matriz de confusión para el set de entrenamiento\n",
    "confusion2(y_test2,y_pred_test_nb)"
   ]
  },
  {
   "cell_type": "markdown",
   "metadata": {},
   "source": [
    "### b) Regresión Logística"
   ]
  },
  {
   "cell_type": "code",
   "execution_count": 114,
   "metadata": {},
   "outputs": [],
   "source": [
    "from sklearn.linear_model import LogisticRegression\n",
    "\n",
    "clf2 = LogisticRegression(max_iter=1000).fit(x2,y2)"
   ]
  },
  {
   "cell_type": "code",
   "execution_count": 119,
   "metadata": {},
   "outputs": [],
   "source": [
    "y_pred_train_clf2 = clf2.predict(x2)\n",
    "y_pred_test_clf2 = clf2.predict(x_test2)"
   ]
  },
  {
   "cell_type": "code",
   "execution_count": 133,
   "metadata": {},
   "outputs": [
    {
     "name": "stdout",
     "output_type": "stream",
     "text": [
      "Accuracy en train:  0.86709375\n",
      "Accuracy en test:  0.86525\n",
      "Número de instancias correctamente clasificadas por XGBoost Regressor: 3461\n"
     ]
    }
   ],
   "source": [
    "print(\"Accuracy en train: \", clf2.score(x2,y2))\n",
    "print(\"Accuracy en test: \", clf2.score(x_test2,y_test2))\n",
    "acc_clf2 = accuracy_score(y_test2,y_pred_test_clf2, normalize=False)\n",
    "print('Número de instancias correctamente clasificadas por XGBoost Regressor:', acc_clf2)"
   ]
  },
  {
   "cell_type": "code",
   "execution_count": 123,
   "metadata": {},
   "outputs": [
    {
     "data": {
      "image/png": "[encoded data removed]",
      "text/plain": [
       "<Figure size 360x360 with 2 Axes>"
      ]
     },
     "metadata": {
      "needs_background": "light"
     },
     "output_type": "display_data"
    }
   ],
   "source": [
    "# Realizo la matriz de confusión para el set de entrenamiento\n",
    "confusion2(y_test2,y_pred_test_clf2)"
   ]
  },
  {
   "cell_type": "markdown",
   "metadata": {},
   "source": [
    "### c) XGBoost Classifier"
   ]
  },
  {
   "cell_type": "code",
   "execution_count": 124,
   "metadata": {},
   "outputs": [],
   "source": [
    "from xgboost import XGBClassifier\n",
    "\n",
    "model = XGBClassifier(use_label_encoder=False)"
   ]
  },
  {
   "cell_type": "code",
   "execution_count": 125,
   "metadata": {},
   "outputs": [
    {
     "name": "stdout",
     "output_type": "stream",
     "text": [
      "[00:42:22] WARNING: ../src/learner.cc:1061: Starting in XGBoost 1.3.0, the default evaluation metric used with the objective 'binary:logistic' was changed from 'error' to 'logloss'. Explicitly set eval_metric if you'd like to restore the old behavior.\n"
     ]
    },
    {
     "data": {
      "text/plain": [
       "XGBClassifier(base_score=0.5, booster='gbtree', colsample_bylevel=1,\n",
       "              colsample_bynode=1, colsample_bytree=1, gamma=0, gpu_id=-1,\n",
       "              importance_type='gain', interaction_constraints='',\n",
       "              learning_rate=0.300000012, max_delta_step=0, max_depth=6,\n",
       "              min_child_weight=1, missing=nan, monotone_constraints='()',\n",
       "              n_estimators=100, n_jobs=4, num_parallel_tree=1, random_state=0,\n",
       "              reg_alpha=0, reg_lambda=1, scale_pos_weight=1, subsample=1,\n",
       "              tree_method='exact', use_label_encoder=False,\n",
       "              validate_parameters=1, verbosity=None)"
      ]
     },
     "execution_count": 125,
     "metadata": {},
     "output_type": "execute_result"
    }
   ],
   "source": [
    "model.fit(x2, y2)"
   ]
  },
  {
   "cell_type": "code",
   "execution_count": 126,
   "metadata": {},
   "outputs": [],
   "source": [
    "y_pred_train_xg = model.predict(x)\n",
    "y_pred_test_xg = model.predict(x_test2)"
   ]
  },
  {
   "cell_type": "code",
   "execution_count": 132,
   "metadata": {},
   "outputs": [
    {
     "name": "stdout",
     "output_type": "stream",
     "text": [
      "Accuracy en train:  0.88230625\n",
      "Accuracy en test:  0.87125\n",
      "Número de instancias correctamente clasificadas: 3485\n"
     ]
    }
   ],
   "source": [
    "print(\"Accuracy en train: \", model.score(x2,y2))\n",
    "print(\"Accuracy en test: \", model.score(x_test2,y_test2))\n",
    "acc_xgb = accuracy_score(y_test2,y_pred_test_xg, normalize=False)\n",
    "print('Número de instancias correctamente clasificadas:', acc_xgb)"
   ]
  },
  {
   "cell_type": "code",
   "execution_count": 129,
   "metadata": {},
   "outputs": [
    {
     "data": {
      "image/png": "[encoded data removed]",
      "text/plain": [
       "<Figure size 360x360 with 2 Axes>"
      ]
     },
     "metadata": {
      "needs_background": "light"
     },
     "output_type": "display_data"
    }
   ],
   "source": [
    "# Realizo la matriz de confusión para el set de entrenamiento\n",
    "confusion2(y_test2,y_pred_test_xg)"
   ]
  },
  {
   "cell_type": "markdown",
   "metadata": {},
   "source": [
    "Comparando los accuracy obtenidos en estos 3 modelos binarios vemos que el desempeño es mucho mejor que el obtenido a partir del XGBoost Regressor considerando las 5 calificaciones posibles.\n",
    "\n",
    "Accuracy sobre XGBoost Regressor: 0.41 (2050/5000 correctamente clasificadas)    \n",
    "Accuracy sobre Naive Bayes: 0.756 (3024/4000 correctamente clasificadas)   \n",
    "Accuracy sobre Regresión Logística: 0.86525 (3461/4000 correctamente clasificadas)    \n",
    "**Accuracy sobre XGBoost Classifier: 0.87125 (3485/4000 correctamente clasificadas)**  \n",
    "\n",
    "Evaluando estos 3 modelos es posible ver que la mejor performance se logra con XGBoost Classifier. La performance podría mejorarse aún más si realizáramos la optimización de hiperparámetros o incluso sería posible probar otros modelos como Máxima entropía o SVMs. Podría ser de utilidad a la hora de considerar si un producto es satisfactorio para un usuario/a y almacenar dicha información para recomendar productos a dicho usuario/a o a otros usuarios/as, por ejemplo. \n",
    "\n",
    "\n",
    "Sería interesante implementar este algoritmo sobre los productos con calificación considerada neutral (3 stars) para evaluar si a partir del texto puede inferirse una calificación Positiva o Negativa para dichos productos.   "
   ]
  },
  {
   "cell_type": "code",
   "execution_count": 198,
   "metadata": {},
   "outputs": [
    {
     "data": {
      "text/plain": [
       "0    21515\n",
       "1    18485\n",
       "dtype: int64"
      ]
     },
     "execution_count": 198,
     "metadata": {},
     "output_type": "execute_result"
    }
   ],
   "source": [
    "dataset3 = dataset_lemma[dataset_lemma['stars'] == 3]\n",
    "dataset3 = dataset3.rename(columns={'stars': 'label'})    \n",
    "    \n",
    "    # Tomamso la lista de palabras y las stars\n",
    "list_reviews_test3 = list(dataset3['titular_lemm'].values)\n",
    "label_test3 = dataset3['label'].values\n",
    "\n",
    "matriz_test3 = cou_vec2.transform(list_reviews_test3)\n",
    "    \n",
    "    # Tomamos las palabras\n",
    "all_words_test3 = cou_vec2.get_feature_names()\n",
    "\n",
    "x_test3 = matriz_test3.toarray()\n",
    "y_test3 = label_test3\n",
    "\n",
    "y_pred_test_xg_3 = model.predict(x_test3)\n",
    "grupo3 = pd.DataFrame(y_pred_test_xg_3)\n",
    "grupo3.value_counts()"
   ]
  },
  {
   "cell_type": "markdown",
   "metadata": {},
   "source": [
    "De las 40.000 calificaciones neutrales (3 stars), considerando este modelo podríamos inferir que 21515 (53.8%) se califican como Negativas y 18.485 (46.2%) como positivas. Si bien no es posible hacer una generalización de manera global, podría ser posible que este comportamiento difiera para las diferentes categorías de productos."
   ]
  },
  {
   "cell_type": "markdown",
   "metadata": {},
   "source": [
    "### **Conclusiones finales y planes a futuro**\n",
    "\n",
    "En este proyecto de procesamiento de datos del corpus de Amazon Reviews se han presentado diferentes modelos para la predicción de calificaciones a partir de los comentarios de cada producto. \n",
    "\n",
    "Sería posible mejorar el desempeño obtenido empleando análisis más complejos. Quisiera probar a futuro considerar más variables para la predicción del modelo, gbpor ejemplo agregando información del titular y de la categoría del producto. Lo realizaría además intentando emplear una Red neuronal (vista en el encuentro Nº 48 de este curso).\n",
    "\n",
    "Adicionalmente quisiera mejorar el código de este proyecto, por ejemplo agregando funciones y pipelines en la Parte B de Machine learning. "
   ]
  }
 ],
 "metadata": {
  "colab": {
   "collapsed_sections": [],
   "name": "DS_Proyecto_03_NLP.ipynb",
   "provenance": []
  },
  "kernelspec": {
   "display_name": "Python 3",
   "language": "python",
   "name": "python3"
  },
  "language_info": {
   "codemirror_mode": {
    "name": "ipython",
    "version": 3
   },
   "file_extension": ".py",
   "mimetype": "text/x-python",
   "name": "python",
   "nbconvert_exporter": "python",
   "pygments_lexer": "ipython3",
   "version": "3.7.7"
  }
 },
 "nbformat": 4,
 "nbformat_minor": 4
}
